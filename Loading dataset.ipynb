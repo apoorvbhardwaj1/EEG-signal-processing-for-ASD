{
 "metadata": {
  "language_info": {
   "codemirror_mode": {
    "name": "ipython",
    "version": 3
   },
   "file_extension": ".py",
   "mimetype": "text/x-python",
   "name": "python",
   "nbconvert_exporter": "python",
   "pygments_lexer": "ipython3",
   "version": "3.9.0"
  },
  "orig_nbformat": 2,
  "kernelspec": {
   "name": "python390jvsc74a57bd02a856a5bb78658aec207675cd46f8320e8aedb88393d54951262f47d64ebaa45",
   "display_name": "Python 3.9.0 64-bit"
  },
  "metadata": {
   "interpreter": {
    "hash": "2a856a5bb78658aec207675cd46f8320e8aedb88393d54951262f47d64ebaa45"
   }
  }
 },
 "nbformat": 4,
 "nbformat_minor": 2,
 "cells": [
  {
   "source": [
    "# Loading Autism dataset"
   ],
   "cell_type": "markdown",
   "metadata": {}
  },
  {
   "cell_type": "code",
   "execution_count": 1,
   "metadata": {},
   "outputs": [
    {
     "output_type": "stream",
     "name": "stdout",
     "text": [
      "Extracting EDF parameters from C:\\Users\\ab96c\\Downloads\\EEG-Data-20210329T062957Z-001\\Autism\\Autism_merged_EEG.edf...\n",
      "EDF file detected\n",
      "Setting channel info structure...\n",
      "Creating raw.info structure...\n"
     ]
    }
   ],
   "source": [
    "import numpy as np\n",
    "import mne\n",
    "\n",
    "edf = mne.io.read_raw_edf(r\"C:\\Users\\ab96c\\Downloads\\EEG-Data-20210329T062957Z-001\\Autism\\Autism_merged_EEG.edf\") #loading dataset\n",
    "header = ','.join(edf.ch_names)\n",
    "np.savetxt(r\"C:\\Users\\ab96c\\Downloads\\EEG-Data-20210329T062957Z-001\\Autism\\merged-autism.csv\", edf.get_data().T, delimiter=',', header=header) # converting to csv"
   ]
  },
  {
   "source": [
    "# Loading Normal dataset"
   ],
   "cell_type": "markdown",
   "metadata": {}
  },
  {
   "cell_type": "code",
   "execution_count": 2,
   "metadata": {},
   "outputs": [
    {
     "output_type": "stream",
     "name": "stdout",
     "text": [
      "Extracting EDF parameters from C:\\Users\\ab96c\\Downloads\\EEG-Data-20210329T062957Z-001\\Normal\\Normal_merged_EEG.edf...\n",
      "EDF file detected\n",
      "Setting channel info structure...\n",
      "Creating raw.info structure...\n"
     ]
    }
   ],
   "source": [
    "import numpy as np\n",
    "import mne\n",
    "\n",
    "edf = mne.io.read_raw_edf(r\"C:\\Users\\ab96c\\Downloads\\EEG-Data-20210329T062957Z-001\\Normal\\Normal_merged_EEG.edf\") #loading dataset\n",
    "header = ','.join(edf.ch_names)\n",
    "np.savetxt(r\"C:\\Users\\ab96c\\Downloads\\EEG-Data-20210329T062957Z-001\\Normal\\merged-normal.csv\", edf.get_data().T, delimiter=',', header=header) # converting to csv"
   ]
  },
  {
   "cell_type": "code",
   "execution_count": null,
   "metadata": {},
   "outputs": [],
   "source": []
  }
 ]
}